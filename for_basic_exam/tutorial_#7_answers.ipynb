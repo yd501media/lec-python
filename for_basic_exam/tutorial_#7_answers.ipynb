{
 "cells": [
  {
   "cell_type": "code",
   "execution_count": 3,
   "metadata": {},
   "outputs": [
    {
     "name": "stdout",
     "output_type": "stream",
     "text": [
      "数値 : 100, 文字列 : これは文字列です\n",
      "num=200, string_='これは文字列ですpart2'\n"
     ]
    }
   ],
   "source": [
    "# f文字列\n",
    "a = 100\n",
    "s = 'これは文字列です'\n",
    "print(f'数値 : {a}, 文字列 : {s}')\n",
    "\n",
    "num = 200\n",
    "string_ = 'これは文字列ですpart2'\n",
    "print(f'{num=}, {string_=}')"
   ]
  },
  {
   "cell_type": "markdown",
   "metadata": {},
   "source": [
    "# \"出力を整形する方法はいくつもある\"、使い分けはあるのか？\n",
    "\n",
    "**7.1.1 フォーマット済み文字列リテラル**  \n",
    "これが一番よく使う(依田談)\n",
    "\n",
    "**7.1.2 文字列のformat()メソッド**  \n",
    "正直使ったことない。f文字列で完結できるので。\n",
    "\n",
    "**7.1.3 手動での文字列フォーマッティング**  \n",
    "論外\n",
    "\n",
    "**7.1.4 従来形式の文字列フォーマッティング**  \n",
    "C言語とかで書く形式"
   ]
  },
  {
   "cell_type": "markdown",
   "metadata": {},
   "source": [
    "# p.75 理解できなかった\n",
    "テキストの書き方だと、依田でも分からない。  \n",
    "下に解説。"
   ]
  },
  {
   "cell_type": "code",
   "execution_count": 7,
   "metadata": {},
   "outputs": [
    {
     "name": "stdout",
     "output_type": "stream",
     "text": [
      "Hello, YODA ! Welcome to TMC !\n"
     ]
    }
   ],
   "source": [
    "import string\n",
    "template = string.Template('Hello, $name ! Welcome to $place !')\n",
    "result = template.substitute(name='YODA', place='TMC')\n",
    "print(result)"
   ]
  },
  {
   "cell_type": "markdown",
   "metadata": {},
   "source": [
    "# withの推奨\n",
    "p.79とp.95ではどちらもwithを使うことを推奨しているが、意味合いとしては同じか？  \n",
    "→同じです。"
   ]
  },
  {
   "cell_type": "markdown",
   "metadata": {},
   "source": [
    "# エラーの種類\n",
    "8章で紹介された以外にもエラーの種類はあるのか？  \n",
    "→あります。  \n",
    "試験や業務で軽く使う程度であれば紹介されているものだけ覚えておけば良い？  \n",
    "→試験がこれで足りるかどうかは確認しておきます。  \n",
    "→業務でPythonを使う場合、テキストに出てきたもの以外も出てくる可能性は多いです。"
   ]
  },
  {
   "cell_type": "code",
   "execution_count": null,
   "metadata": {},
   "outputs": [],
   "source": []
  }
 ],
 "metadata": {
  "kernelspec": {
   "display_name": "Python 3",
   "language": "python",
   "name": "python3"
  },
  "language_info": {
   "codemirror_mode": {
    "name": "ipython",
    "version": 3
   },
   "file_extension": ".py",
   "mimetype": "text/x-python",
   "name": "python",
   "nbconvert_exporter": "python",
   "pygments_lexer": "ipython3",
   "version": "3.12.5"
  }
 },
 "nbformat": 4,
 "nbformat_minor": 2
}
